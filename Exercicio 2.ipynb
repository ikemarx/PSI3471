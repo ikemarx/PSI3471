{
 "cells": [
  {
   "cell_type": "markdown",
   "metadata": {
    "id": "5hFdIq3FCbIs"
   },
   "source": [
    "# Exercício 2 - PSI3471\n",
    "### Exercício feito individualmente\n",
    "#### Henrique Schneider Marx 14578432\n",
    "importando as libraries e separando os dados:"
   ]
  },
  {
   "cell_type": "code",
   "execution_count": 1,
   "metadata": {
    "id": "TX1XdDIfxI1y"
   },
   "outputs": [],
   "source": [
    "import pandas as pd\n",
    "import numpy as np\n",
    "import math\n",
    "data_df = pd.read_csv(\"circles_and_squares.csv\")\n",
    "data = data_df.to_numpy()\n",
    "Xd = data[:800, :]\n",
    "Xd_test = data[800:, :]"
   ]
  },
  {
   "cell_type": "markdown",
   "metadata": {
    "id": "dxg_OGQ0mxec"
   },
   "source": [
    "definindo parâmetros:"
   ]
  },
  {
   "cell_type": "code",
   "execution_count": 2,
   "metadata": {},
   "outputs": [],
   "source": [
    "x = Xd[:, :400]\n",
    "d = Xd[:, [400]]\n",
    "eta = 0.01\n",
    "Nt = 800\n",
    "Ne = 100\n",
    "Nb = 30\n",
    "dw = 25"
   ]
  },
  {
   "cell_type": "markdown",
   "metadata": {},
   "source": [
    "Agora, vamos definir a função que treinará o perceptron:"
   ]
  },
  {
   "cell_type": "code",
   "execution_count": 3,
   "metadata": {
    "id": "95V7Vzj28-kh"
   },
   "outputs": [],
   "source": [
    "def treinar_perceptron(dw, Nb, Ne, Nt, eta, d, x):\n",
    "    M = x.shape[1]\n",
    "    Nmb = int(np.floor(Nt / Nb))\n",
    "    W = np.random.uniform((dw*(-1)), dw, ((Ne * Nmb + 1, M + 1)))\n",
    "    Xd = np.hstack((np.ones((Nt, 1)), x, d))\n",
    "    eta = eta / Nb\n",
    "    for k in range(Ne):\n",
    "        np.random.shuffle(Xd)\n",
    "        x = Xd[:, 0 : M + 1]\n",
    "        d = Xd[:, [M + 1]]\n",
    "        for l in range(Nmb):\n",
    "            dmb = d[l * Nb : (l + 1) * Nb]\n",
    "            xmb = x[l * Nb : (l + 1) * Nb, :]\n",
    "            m = k*Nmb + l\n",
    "            emb = dmb - np.heaviside(xmb @ W[[m], :].T, 1)\n",
    "            g = xmb.T @ emb\n",
    "            W[[m + 1], :] = W[[m], :] + eta * g.T\n",
    "\n",
    "    return W"
   ]
  },
  {
   "cell_type": "markdown",
   "metadata": {},
   "source": [
    "treinando..."
   ]
  },
  {
   "cell_type": "code",
   "execution_count": 4,
   "metadata": {
    "id": "G1O1iu-r9XSk"
   },
   "outputs": [],
   "source": [
    "W = treinar_perceptron(dw, Nb, Ne, Nt, eta, d, x)"
   ]
  },
  {
   "cell_type": "code",
   "execution_count": 5,
   "metadata": {
    "id": "xW1rltDeD50s"
   },
   "outputs": [],
   "source": [
    "it_final = Ne * int(np.floor(Nt / Nb))\n",
    "Wfinal = W[[it_final], :]"
   ]
  },
  {
   "cell_type": "code",
   "execution_count": 6,
   "metadata": {},
   "outputs": [],
   "source": [
    "y_estimado = 2*np.heaviside(Xd_test @ Wfinal.T, 1) - 1\n",
    "erro_teste = pd.DataFrame(Xd_test[:, [400]]).subtract(y_estimado).to_numpy()\n",
    "acuracia_teste = 0\n",
    "for i in range(len(erro_teste)):\n",
    "  if(erro_teste[i] != 0):\n",
    "    acuracia_teste += 1\n",
    "acuracia_teste = 1 - (acuracia_teste/len(erro_teste))"
   ]
  },
  {
   "cell_type": "code",
   "execution_count": 7,
   "metadata": {},
   "outputs": [],
   "source": [
    "y_treino_estimado = 2*np.heaviside(Xd @ Wfinal.T, 1) - 1\n",
    "erro_treino = pd.DataFrame(Xd[:, [400]]).subtract(y_treino_estimado).to_numpy()\n",
    "acuracia_treino = 0\n",
    "for i in range(len(erro_treino)):\n",
    "  if(erro_treino[i] != 0):\n",
    "    acuracia_treino += 1\n",
    "acuracia_treino = 1 - (acuracia_treino/len(erro_treino))"
   ]
  },
  {
   "cell_type": "code",
   "execution_count": 8,
   "metadata": {},
   "outputs": [
    {
     "data": {
      "text/plain": [
       "0.54"
      ]
     },
     "execution_count": 8,
     "metadata": {},
     "output_type": "execute_result"
    }
   ],
   "source": [
    "acuracia_teste"
   ]
  },
  {
   "cell_type": "code",
   "execution_count": 9,
   "metadata": {},
   "outputs": [
    {
     "data": {
      "text/plain": [
       "0.565"
      ]
     },
     "execution_count": 9,
     "metadata": {},
     "output_type": "execute_result"
    }
   ],
   "source": [
    "acuracia_treino"
   ]
  }
 ],
 "metadata": {
  "colab": {
   "collapsed_sections": [
    "NtRCVoHjmlsc",
    "dxg_OGQ0mxec",
    "gGyZtcQ7m2RO",
    "lSxkc7LknOI4"
   ],
   "provenance": []
  },
  "gpuClass": "standard",
  "kernelspec": {
   "display_name": "Python 3 (ipykernel)",
   "language": "python",
   "name": "python3"
  },
  "language_info": {
   "codemirror_mode": {
    "name": "ipython",
    "version": 3
   },
   "file_extension": ".py",
   "mimetype": "text/x-python",
   "name": "python",
   "nbconvert_exporter": "python",
   "pygments_lexer": "ipython3",
   "version": "3.12.2"
  }
 },
 "nbformat": 4,
 "nbformat_minor": 4
}
