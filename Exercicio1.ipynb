{
 "cells": [
  {
   "cell_type": "markdown",
   "id": "597e4f1a-87dd-4b9f-af79-aef240383df9",
   "metadata": {},
   "source": [
    "# Exercício 1 - Regressão Linear"
   ]
  },
  {
   "cell_type": "markdown",
   "id": "da59fd38-7a69-4c23-8f1d-c3456844a736",
   "metadata": {},
   "source": [
    "Primeiramente, vamos importar as libraries e os dados."
   ]
  },
  {
   "cell_type": "code",
   "execution_count": 1,
   "id": "45c4b5e0-eabd-4376-b4cd-1a65e1d2dcdf",
   "metadata": {},
   "outputs": [],
   "source": [
    "import numpy as np\n",
    "import pandas as pd\n",
    "cars_data = pd.read_csv(\"vehicles_cleaned_train.csv\")"
   ]
  },
  {
   "cell_type": "markdown",
   "id": "5bd6a2d0-c78d-4bf0-9441-58288d1ed3e1",
   "metadata": {},
   "source": [
    "Verificação dos dados:"
   ]
  },
  {
   "cell_type": "code",
   "execution_count": 2,
   "id": "39f2ef7b-9072-44eb-8dec-2db7d5adfe10",
   "metadata": {},
   "outputs": [
    {
     "data": {
      "text/html": [
       "<div>\n",
       "<style scoped>\n",
       "    .dataframe tbody tr th:only-of-type {\n",
       "        vertical-align: middle;\n",
       "    }\n",
       "\n",
       "    .dataframe tbody tr th {\n",
       "        vertical-align: top;\n",
       "    }\n",
       "\n",
       "    .dataframe thead th {\n",
       "        text-align: right;\n",
       "    }\n",
       "</style>\n",
       "<table border=\"1\" class=\"dataframe\">\n",
       "  <thead>\n",
       "    <tr style=\"text-align: right;\">\n",
       "      <th></th>\n",
       "      <th>price</th>\n",
       "      <th>year</th>\n",
       "      <th>condition</th>\n",
       "      <th>cylinders</th>\n",
       "      <th>fuel</th>\n",
       "      <th>odometer</th>\n",
       "      <th>transmission</th>\n",
       "      <th>size</th>\n",
       "      <th>type</th>\n",
       "    </tr>\n",
       "  </thead>\n",
       "  <tbody>\n",
       "    <tr>\n",
       "      <th>0</th>\n",
       "      <td>10400</td>\n",
       "      <td>2011</td>\n",
       "      <td>excellent</td>\n",
       "      <td>4 cylinders</td>\n",
       "      <td>gas</td>\n",
       "      <td>81300</td>\n",
       "      <td>automatic</td>\n",
       "      <td>mid-size</td>\n",
       "      <td>sedan</td>\n",
       "    </tr>\n",
       "    <tr>\n",
       "      <th>1</th>\n",
       "      <td>6900</td>\n",
       "      <td>2007</td>\n",
       "      <td>excellent</td>\n",
       "      <td>6 cylinders</td>\n",
       "      <td>gas</td>\n",
       "      <td>79000</td>\n",
       "      <td>automatic</td>\n",
       "      <td>full-size</td>\n",
       "      <td>sedan</td>\n",
       "    </tr>\n",
       "    <tr>\n",
       "      <th>2</th>\n",
       "      <td>18900</td>\n",
       "      <td>2018</td>\n",
       "      <td>like new</td>\n",
       "      <td>4 cylinders</td>\n",
       "      <td>gas</td>\n",
       "      <td>5000</td>\n",
       "      <td>automatic</td>\n",
       "      <td>full-size</td>\n",
       "      <td>sedan</td>\n",
       "    </tr>\n",
       "    <tr>\n",
       "      <th>3</th>\n",
       "      <td>6000</td>\n",
       "      <td>2010</td>\n",
       "      <td>excellent</td>\n",
       "      <td>4 cylinders</td>\n",
       "      <td>gas</td>\n",
       "      <td>97600</td>\n",
       "      <td>automatic</td>\n",
       "      <td>mid-size</td>\n",
       "      <td>hatchback</td>\n",
       "    </tr>\n",
       "    <tr>\n",
       "      <th>4</th>\n",
       "      <td>19995</td>\n",
       "      <td>2013</td>\n",
       "      <td>good</td>\n",
       "      <td>6 cylinders</td>\n",
       "      <td>gas</td>\n",
       "      <td>95782</td>\n",
       "      <td>automatic</td>\n",
       "      <td>mid-size</td>\n",
       "      <td>sedan</td>\n",
       "    </tr>\n",
       "  </tbody>\n",
       "</table>\n",
       "</div>"
      ],
      "text/plain": [
       "   price  year  condition    cylinders fuel  odometer transmission       size  \\\n",
       "0  10400  2011  excellent  4 cylinders  gas     81300    automatic   mid-size   \n",
       "1   6900  2007  excellent  6 cylinders  gas     79000    automatic  full-size   \n",
       "2  18900  2018   like new  4 cylinders  gas      5000    automatic  full-size   \n",
       "3   6000  2010  excellent  4 cylinders  gas     97600    automatic   mid-size   \n",
       "4  19995  2013       good  6 cylinders  gas     95782    automatic   mid-size   \n",
       "\n",
       "        type  \n",
       "0      sedan  \n",
       "1      sedan  \n",
       "2      sedan  \n",
       "3  hatchback  \n",
       "4      sedan  "
      ]
     },
     "execution_count": 2,
     "metadata": {},
     "output_type": "execute_result"
    }
   ],
   "source": [
    "cars_data.head()"
   ]
  },
  {
   "cell_type": "markdown",
   "id": "b60efa08-976a-46f9-b510-19d2f601aae7",
   "metadata": {},
   "source": [
    "Obtendo `d`"
   ]
  },
  {
   "cell_type": "code",
   "execution_count": 3,
   "id": "25e77b33-746a-414f-b15d-35eadab853a1",
   "metadata": {},
   "outputs": [],
   "source": [
    "d = cars_data[\"price\"].values"
   ]
  },
  {
   "cell_type": "markdown",
   "id": "a66f48d2-a6ba-4709-a9c8-e04756dc1ce2",
   "metadata": {},
   "source": [
    "Agora, vamos centralizar os dados em torno de zero e dividir pelo desvio padrão, a fim de evitar problemas de escala."
   ]
  },
  {
   "cell_type": "code",
   "execution_count": 4,
   "id": "2aaff517-450b-4aee-86e7-1480c0726135",
   "metadata": {},
   "outputs": [],
   "source": [
    "numeric_cols = ['year', 'odometer']\n",
    "cars_data[numeric_cols] = (cars_data[numeric_cols] - cars_data[numeric_cols].mean()) / cars_data[numeric_cols].std()"
   ]
  },
  {
   "cell_type": "markdown",
   "id": "14166d81-3c8a-4db3-81a3-89cf253ed524",
   "metadata": {},
   "source": [
    "Transformando as outras variáveis em _Dummies_"
   ]
  },
  {
   "cell_type": "code",
   "execution_count": 5,
   "id": "6dd1ed95-f15d-4562-aa67-27ad790cfb43",
   "metadata": {},
   "outputs": [],
   "source": [
    "X = pd.get_dummies(cars_data, columns=['condition', 'cylinders', 'fuel', 'transmission', 'size', 'type'], dtype=float)"
   ]
  },
  {
   "cell_type": "markdown",
   "id": "cd08c4fe-b3ff-4a53-b6e2-be27abb78347",
   "metadata": {},
   "source": [
    "Convertendo os dados de X para uma matriz que utilizaremos nos cálculos:"
   ]
  },
  {
   "cell_type": "code",
   "execution_count": 6,
   "id": "d3aae678-2acc-432a-b672-10fc14e6d873",
   "metadata": {},
   "outputs": [],
   "source": [
    "X['price'] = 1\n",
    "X = X.to_numpy()"
   ]
  },
  {
   "cell_type": "markdown",
   "id": "21866dc9-fc12-4ad0-bd5d-570787ef054a",
   "metadata": {},
   "source": [
    "Usando `np.linalg.solve` para descobrir os coeficientes da regressão"
   ]
  },
  {
   "cell_type": "code",
   "execution_count": 7,
   "id": "baf1cb90-fb22-4f50-82c7-ff259806e5f1",
   "metadata": {},
   "outputs": [],
   "source": [
    "wo = np.linalg.solve(X.T @ X, X.T @ d)"
   ]
  },
  {
   "cell_type": "markdown",
   "id": "c84a924d-bbe9-4491-a68b-383a1a4d4cf7",
   "metadata": {},
   "source": [
    "Vamos fazer o mesmo tratamento para os dados de teste"
   ]
  },
  {
   "cell_type": "code",
   "execution_count": 8,
   "id": "82ed1119-922d-481a-9c4e-200faed91e02",
   "metadata": {},
   "outputs": [],
   "source": [
    "test_data = pd.read_csv(\"vehicles_cleaned_test.csv\")\n",
    "d_teste = test_data[\"price\"].values\n",
    "numeric_cols = ['year', 'odometer']\n",
    "test_data[numeric_cols] = (test_data[numeric_cols] - test_data[numeric_cols].mean()) / test_data[numeric_cols].std()\n",
    "X_teste = pd.get_dummies(test_data, columns=['condition', 'cylinders', 'fuel', 'transmission', 'size', 'type'], dtype=float)\n",
    "X_teste['price'] = 1\n",
    "X_teste = X_teste.to_numpy()"
   ]
  },
  {
   "cell_type": "markdown",
   "id": "dada12e6-258b-4e6f-a4e5-58a7fd225469",
   "metadata": {},
   "source": [
    "Calculando o erro:"
   ]
  },
  {
   "cell_type": "code",
   "execution_count": 9,
   "id": "0b54babd-219f-41ad-85b9-e9b60d1954b6",
   "metadata": {},
   "outputs": [],
   "source": [
    "erro = d_teste - np.dot(X_teste, wo)\n",
    "erro_ms = np.mean(erro**2)"
   ]
  },
  {
   "cell_type": "code",
   "execution_count": 10,
   "id": "b2fea9f1-5b9a-4298-be6e-1c97b3b44015",
   "metadata": {},
   "outputs": [
    {
     "name": "stdout",
     "output_type": "stream",
     "text": [
      "[-5435.51242022  3463.10651422  -430.49009808 ...  1443.23831603\n",
      " -4121.62597016 -1588.5029398 ]\n"
     ]
    }
   ],
   "source": [
    "print(erro)"
   ]
  },
  {
   "cell_type": "code",
   "execution_count": 11,
   "id": "81933c35-fec8-4b85-ba2c-78cfb9bc5f78",
   "metadata": {},
   "outputs": [
    {
     "name": "stdout",
     "output_type": "stream",
     "text": [
      "25853208.573288634\n"
     ]
    }
   ],
   "source": [
    "print(erro_ms)"
   ]
  }
 ],
 "metadata": {
  "kernelspec": {
   "display_name": "Python 3 (ipykernel)",
   "language": "python",
   "name": "python3"
  },
  "language_info": {
   "codemirror_mode": {
    "name": "ipython",
    "version": 3
   },
   "file_extension": ".py",
   "mimetype": "text/x-python",
   "name": "python",
   "nbconvert_exporter": "python",
   "pygments_lexer": "ipython3",
   "version": "3.12.2"
  }
 },
 "nbformat": 4,
 "nbformat_minor": 5
}
